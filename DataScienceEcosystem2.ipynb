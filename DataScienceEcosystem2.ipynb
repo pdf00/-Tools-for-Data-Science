{
 "cells": [
  {
   "cell_type": "markdown",
   "id": "72b457f0",
   "metadata": {},
   "source": [
    "# Data Science Tools and Ecosystem"
   ]
  },
  {
   "cell_type": "markdown",
   "id": "a355ff3f",
   "metadata": {},
   "source": [
    "# Introduction\n",
    "In this notebook, Data Science Tools and Ecosystem are summarized."
   ]
  },
  {
   "cell_type": "markdown",
   "id": "43114852",
   "metadata": {},
   "source": [
    "# Objectives:\n",
    "\n",
    "- Understand the basics of Jupyter Notebook and its functionalities.\n",
    "- Learn how to create and execute code cells in Python.\n",
    "- Practice simple arithmetic operations in Python.\n",
    "- Learn how to convert units (e.g., minutes to hours)."
   ]
  },
  {
   "cell_type": "markdown",
   "id": "3fed28f0",
   "metadata": {},
   "source": [
    "# Some of the popular languages that Data Scientists use are:\n",
    "\n",
    "1. Python: Python is a high-level, interpreted programming language. It is known for its simplicity and readability, which makes it a great choice for beginners. Python also has a wide range of libraries and frameworks for data science, such as NumPy, pandas, and scikit-learn.\n",
    "\n",
    "2. R: R is a language and environment for statistical computing and graphics. It provides a variety of statistical and graphical techniques and is highly extensible. R is often used for data analysis and machine learning.\n",
    "\n",
    "3. SQL: SQL (Structured Query Language) is a programming language used to communicate with and manipulate databases. Data scientists use SQL to query, insert, update, and modify data in databases.\n",
    "\n",
    "4. Julia: Julia is a high-level, high-performance dynamic language for technical computing. It has an LLVM-based just-in-time (JIT) compiler and is well-suited for numerical and scientific computing.\n",
    "\n"
   ]
  },
  {
   "cell_type": "markdown",
   "id": "0584286e",
   "metadata": {},
   "source": [
    "# Some of the commonly used libraries used by Data Scientists include:\n",
    "\n",
    "1. **NumPy**: NumPy (Numerical Python) is a library for the Python programming language, adding support for large, multi-dimensional arrays and matrices, along with a large collection of high-level mathematical functions to operate on these arrays.\n",
    "\n",
    "2. **Pandas**: Pandas is a software library written for the Python programming language for data manipulation and analysis. In particular, it offers data structures and operations for manipulating numerical tables and time series.\n",
    "\n",
    "3. **Matplotlib**: Matplotlib is a plotting library for the Python programming language and its numerical mathematics extension NumPy. It provides an object-oriented API for embedding plots into applications using general-purpose GUI toolkits like Tkinter, wxPython, Qt, or GTK.\n"
   ]
  },
  {
   "cell_type": "markdown",
   "id": "0c081fd8",
   "metadata": {},
   "source": [
    "# Data Science Tools\n",
    "\n",
    "Some of the commonly used tools used by Data Scientists include:\n",
    "\n",
    "Jupyter Notebook: Jupyter Notebook is an open-source web application that allows you to create and share documents that contain live code, equations, visualizations, and narrative text. It's widely used for data cleaning and transformation, numerical simulation, statistical modeling, data visualization, and machine learning.\n",
    "\n",
    "RStudio: RStudio is an integrated development environment (IDE) for R, a programming language for statistical computing and graphics. It provides a robust set of tools for plotting, viewing history, debugging, and managing your workspace.\n",
    "\n",
    "Tableau: Tableau is a powerful data visualization tool used in the Business Intelligence industry. It helps simplify raw data into an easily understandable format without any technical skills and coding knowledge."
   ]
  },
  {
   "cell_type": "markdown",
   "id": "6051c7ed",
   "metadata": {},
   "source": [
    "### Below are a few examples of evaluating arithmetic expressions in Python:\n",
    "\n",
    "1. **Addition**: `3 + 4` will output `7`.\n",
    "2. **Subtraction**: `10 - 5` will output `5`.\n",
    "3. **Multiplication**: `2 * 3` will output `6`.\n",
    "4. **Division**: `10 / 2` will output `5.0`.\n"
   ]
  },
  {
   "cell_type": "code",
   "execution_count": null,
   "id": "92ce0736",
   "metadata": {},
   "outputs": [],
   "source": [
    "# This is a simple arithmetic expression to multiply then add integers\n",
    "result = (3*4) + 5\n",
    "print(result)\n"
   ]
  },
  {
   "cell_type": "code",
   "execution_count": null,
   "id": "6ca42841",
   "metadata": {},
   "outputs": [],
   "source": [
    "# This will convert 200 minutes to hours by dividing by 60\n",
    "minutes = 200\n",
    "hours = minutes / 60\n",
    "print(hours)"
   ]
  },
  {
   "cell_type": "markdown",
   "id": "9f77fde4",
   "metadata": {},
   "source": [
    "## Author\n",
    "\n",
    "Lakshmi Holla\n",
    "\n",
    "Niveditha Pandith\n"
   ]
  }
 ],
 "metadata": {
  "kernelspec": {
   "display_name": "Python 3 (ipykernel)",
   "language": "python",
   "name": "python3"
  },
  "language_info": {
   "codemirror_mode": {
    "name": "ipython",
    "version": 3
   },
   "file_extension": ".py",
   "mimetype": "text/x-python",
   "name": "python",
   "nbconvert_exporter": "python",
   "pygments_lexer": "ipython3",
   "version": "3.11.7"
  }
 },
 "nbformat": 4,
 "nbformat_minor": 5
}
